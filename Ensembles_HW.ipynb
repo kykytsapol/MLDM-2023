{
 "cells": [
  {
   "cell_type": "markdown",
   "metadata": {
    "colab_type": "text",
    "id": "view-in-github"
   },
   "source": [
    "<a href=\"https://colab.research.google.com/github/HSE-LAMBDA/MLDM-2021/blob/master/08-ensembles/Ensembles_HW.ipynb\" target=\"_parent\"><img src=\"https://colab.research.google.com/assets/colab-badge.svg\" alt=\"Open In Colab\"/></a>"
   ]
  },
  {
   "cell_type": "code",
   "execution_count": 1,
   "metadata": {
    "colab": {
     "base_uri": "https://localhost:8080/",
     "height": 376
    },
    "id": "cF5wcLSHBOw-",
    "outputId": "26e392a4-0f6f-456b-97aa-e44c3bb63b54"
   },
   "outputs": [
    {
     "name": "stdout",
     "output_type": "stream",
     "text": [
      "20640\n"
     ]
    },
    {
     "data": {
      "text/html": [
       "<div>\n",
       "<style scoped>\n",
       "    .dataframe tbody tr th:only-of-type {\n",
       "        vertical-align: middle;\n",
       "    }\n",
       "\n",
       "    .dataframe tbody tr th {\n",
       "        vertical-align: top;\n",
       "    }\n",
       "\n",
       "    .dataframe thead th {\n",
       "        text-align: right;\n",
       "    }\n",
       "</style>\n",
       "<table border=\"1\" class=\"dataframe\">\n",
       "  <thead>\n",
       "    <tr style=\"text-align: right;\">\n",
       "      <th></th>\n",
       "      <th>MedInc</th>\n",
       "      <th>HouseAge</th>\n",
       "      <th>AveRooms</th>\n",
       "      <th>AveBedrms</th>\n",
       "      <th>Population</th>\n",
       "      <th>AveOccup</th>\n",
       "      <th>Latitude</th>\n",
       "      <th>Longitude</th>\n",
       "      <th>target</th>\n",
       "    </tr>\n",
       "  </thead>\n",
       "  <tbody>\n",
       "    <tr>\n",
       "      <th>0</th>\n",
       "      <td>8.3252</td>\n",
       "      <td>41.0</td>\n",
       "      <td>6.984127</td>\n",
       "      <td>1.023810</td>\n",
       "      <td>322.0</td>\n",
       "      <td>2.555556</td>\n",
       "      <td>37.88</td>\n",
       "      <td>-122.23</td>\n",
       "      <td>4.526</td>\n",
       "    </tr>\n",
       "    <tr>\n",
       "      <th>1</th>\n",
       "      <td>8.3014</td>\n",
       "      <td>21.0</td>\n",
       "      <td>6.238137</td>\n",
       "      <td>0.971880</td>\n",
       "      <td>2401.0</td>\n",
       "      <td>2.109842</td>\n",
       "      <td>37.86</td>\n",
       "      <td>-122.22</td>\n",
       "      <td>3.585</td>\n",
       "    </tr>\n",
       "    <tr>\n",
       "      <th>2</th>\n",
       "      <td>7.2574</td>\n",
       "      <td>52.0</td>\n",
       "      <td>8.288136</td>\n",
       "      <td>1.073446</td>\n",
       "      <td>496.0</td>\n",
       "      <td>2.802260</td>\n",
       "      <td>37.85</td>\n",
       "      <td>-122.24</td>\n",
       "      <td>3.521</td>\n",
       "    </tr>\n",
       "    <tr>\n",
       "      <th>3</th>\n",
       "      <td>5.6431</td>\n",
       "      <td>52.0</td>\n",
       "      <td>5.817352</td>\n",
       "      <td>1.073059</td>\n",
       "      <td>558.0</td>\n",
       "      <td>2.547945</td>\n",
       "      <td>37.85</td>\n",
       "      <td>-122.25</td>\n",
       "      <td>3.413</td>\n",
       "    </tr>\n",
       "    <tr>\n",
       "      <th>4</th>\n",
       "      <td>3.8462</td>\n",
       "      <td>52.0</td>\n",
       "      <td>6.281853</td>\n",
       "      <td>1.081081</td>\n",
       "      <td>565.0</td>\n",
       "      <td>2.181467</td>\n",
       "      <td>37.85</td>\n",
       "      <td>-122.25</td>\n",
       "      <td>3.422</td>\n",
       "    </tr>\n",
       "    <tr>\n",
       "      <th>5</th>\n",
       "      <td>4.0368</td>\n",
       "      <td>52.0</td>\n",
       "      <td>4.761658</td>\n",
       "      <td>1.103627</td>\n",
       "      <td>413.0</td>\n",
       "      <td>2.139896</td>\n",
       "      <td>37.85</td>\n",
       "      <td>-122.25</td>\n",
       "      <td>2.697</td>\n",
       "    </tr>\n",
       "    <tr>\n",
       "      <th>6</th>\n",
       "      <td>3.6591</td>\n",
       "      <td>52.0</td>\n",
       "      <td>4.931907</td>\n",
       "      <td>0.951362</td>\n",
       "      <td>1094.0</td>\n",
       "      <td>2.128405</td>\n",
       "      <td>37.84</td>\n",
       "      <td>-122.25</td>\n",
       "      <td>2.992</td>\n",
       "    </tr>\n",
       "    <tr>\n",
       "      <th>7</th>\n",
       "      <td>3.1200</td>\n",
       "      <td>52.0</td>\n",
       "      <td>4.797527</td>\n",
       "      <td>1.061824</td>\n",
       "      <td>1157.0</td>\n",
       "      <td>1.788253</td>\n",
       "      <td>37.84</td>\n",
       "      <td>-122.25</td>\n",
       "      <td>2.414</td>\n",
       "    </tr>\n",
       "    <tr>\n",
       "      <th>8</th>\n",
       "      <td>2.0804</td>\n",
       "      <td>42.0</td>\n",
       "      <td>4.294118</td>\n",
       "      <td>1.117647</td>\n",
       "      <td>1206.0</td>\n",
       "      <td>2.026891</td>\n",
       "      <td>37.84</td>\n",
       "      <td>-122.26</td>\n",
       "      <td>2.267</td>\n",
       "    </tr>\n",
       "    <tr>\n",
       "      <th>9</th>\n",
       "      <td>3.6912</td>\n",
       "      <td>52.0</td>\n",
       "      <td>4.970588</td>\n",
       "      <td>0.990196</td>\n",
       "      <td>1551.0</td>\n",
       "      <td>2.172269</td>\n",
       "      <td>37.84</td>\n",
       "      <td>-122.25</td>\n",
       "      <td>2.611</td>\n",
       "    </tr>\n",
       "  </tbody>\n",
       "</table>\n",
       "</div>"
      ],
      "text/plain": [
       "   MedInc  HouseAge  AveRooms  AveBedrms  Population  AveOccup  Latitude  \\\n",
       "0  8.3252      41.0  6.984127   1.023810       322.0  2.555556     37.88   \n",
       "1  8.3014      21.0  6.238137   0.971880      2401.0  2.109842     37.86   \n",
       "2  7.2574      52.0  8.288136   1.073446       496.0  2.802260     37.85   \n",
       "3  5.6431      52.0  5.817352   1.073059       558.0  2.547945     37.85   \n",
       "4  3.8462      52.0  6.281853   1.081081       565.0  2.181467     37.85   \n",
       "5  4.0368      52.0  4.761658   1.103627       413.0  2.139896     37.85   \n",
       "6  3.6591      52.0  4.931907   0.951362      1094.0  2.128405     37.84   \n",
       "7  3.1200      52.0  4.797527   1.061824      1157.0  1.788253     37.84   \n",
       "8  2.0804      42.0  4.294118   1.117647      1206.0  2.026891     37.84   \n",
       "9  3.6912      52.0  4.970588   0.990196      1551.0  2.172269     37.84   \n",
       "\n",
       "   Longitude  target  \n",
       "0    -122.23   4.526  \n",
       "1    -122.22   3.585  \n",
       "2    -122.24   3.521  \n",
       "3    -122.25   3.413  \n",
       "4    -122.25   3.422  \n",
       "5    -122.25   2.697  \n",
       "6    -122.25   2.992  \n",
       "7    -122.25   2.414  \n",
       "8    -122.26   2.267  \n",
       "9    -122.25   2.611  "
      ]
     },
     "execution_count": 1,
     "metadata": {},
     "output_type": "execute_result"
    }
   ],
   "source": [
    "import matplotlib.pyplot as plt\n",
    "import pandas as pd\n",
    "from sklearn.datasets import fetch_california_housing\n",
    "from sklearn.model_selection import train_test_split\n",
    "\n",
    "\n",
    "dataset = fetch_california_housing()\n",
    "\n",
    "data = pd.DataFrame(dataset.data, columns=dataset.feature_names)\n",
    "data['target'] = dataset.target\n",
    "\n",
    "print(len(data))\n",
    "data.head(10)"
   ]
  },
  {
   "cell_type": "code",
   "execution_count": 2,
   "metadata": {
    "colab": {
     "base_uri": "https://localhost:8080/"
    },
    "id": "R-dhzIu9HLcF",
    "outputId": "98977dcf-d4d6-4310-e744-8a899f79027f"
   },
   "outputs": [
    {
     "name": "stdout",
     "output_type": "stream",
     "text": [
      ".. _california_housing_dataset:\n",
      "\n",
      "California Housing dataset\n",
      "--------------------------\n",
      "\n",
      "**Data Set Characteristics:**\n",
      "\n",
      "    :Number of Instances: 20640\n",
      "\n",
      "    :Number of Attributes: 8 numeric, predictive attributes and the target\n",
      "\n",
      "    :Attribute Information:\n",
      "        - MedInc        median income in block group\n",
      "        - HouseAge      median house age in block group\n",
      "        - AveRooms      average number of rooms per household\n",
      "        - AveBedrms     average number of bedrooms per household\n",
      "        - Population    block group population\n",
      "        - AveOccup      average number of household members\n",
      "        - Latitude      block group latitude\n",
      "        - Longitude     block group longitude\n",
      "\n",
      "    :Missing Attribute Values: None\n",
      "\n",
      "This dataset was obtained from the StatLib repository.\n",
      "https://www.dcc.fc.up.pt/~ltorgo/Regression/cal_housing.html\n",
      "\n",
      "The target variable is the median house value for California districts,\n",
      "expressed in hundreds of thousands of dollars ($100,000).\n",
      "\n",
      "This dataset was derived from the 1990 U.S. census, using one row per census\n",
      "block group. A block group is the smallest geographical unit for which the U.S.\n",
      "Census Bureau publishes sample data (a block group typically has a population\n",
      "of 600 to 3,000 people).\n",
      "\n",
      "A household is a group of people residing within a home. Since the average\n",
      "number of rooms and bedrooms in this dataset are provided per household, these\n",
      "columns may take surprisingly large values for block groups with few households\n",
      "and many empty houses, such as vacation resorts.\n",
      "\n",
      "It can be downloaded/loaded using the\n",
      ":func:`sklearn.datasets.fetch_california_housing` function.\n",
      "\n",
      ".. topic:: References\n",
      "\n",
      "    - Pace, R. Kelley and Ronald Barry, Sparse Spatial Autoregressions,\n",
      "      Statistics and Probability Letters, 33 (1997) 291-297\n",
      "\n"
     ]
    }
   ],
   "source": [
    "print(dataset.DESCR)"
   ]
  },
  {
   "cell_type": "markdown",
   "metadata": {
    "id": "ZtGrJYtvHIKT"
   },
   "source": [
    "This data contains 2 spacial features: `['Longitude', 'Latitude']`:"
   ]
  },
  {
   "cell_type": "code",
   "execution_count": 3,
   "metadata": {
    "colab": {
     "base_uri": "https://localhost:8080/",
     "height": 362
    },
    "id": "-9cf0j7qBmTr",
    "outputId": "926455e7-e19a-4132-be48-f336cf2e8526"
   },
   "outputs": [
    {
     "data": {
      "image/png": "[encoded data removed]",
      "text/plain": [
       "<Figure size 500x400 with 1 Axes>"
      ]
     },
     "metadata": {
      "needs_background": "light"
     },
     "output_type": "display_data"
    }
   ],
   "source": [
    "plt.figure(figsize=(5, 4), dpi=100)\n",
    "plt.scatter(data.Longitude, data.Latitude, s=data.target, c=data.target, cmap='bwr');"
   ]
  },
  {
   "cell_type": "markdown",
   "metadata": {
    "id": "53JksV8hLeqn"
   },
   "source": [
    "(Compare this plot with the map of California: https://en.wikipedia.org/wiki/California)"
   ]
  },
  {
   "cell_type": "markdown",
   "metadata": {
    "id": "OPHN4_8pH6qB"
   },
   "source": [
    "A kNN model might be quite reasonable to use on this 2D subspace.\n",
    "\n",
    "Let's first divide our data into train and test:"
   ]
  },
  {
   "cell_type": "code",
   "execution_count": 4,
   "metadata": {
    "colab": {
     "base_uri": "https://localhost:8080/"
    },
    "id": "l8boBXE9DsU9",
    "outputId": "7ef91625-fd9e-41f1-a5e6-81e0fb0d76db"
   },
   "outputs": [
    {
     "name": "stdout",
     "output_type": "stream",
     "text": [
      "(15480, 8) (5160, 8) (15480,) (5160,)\n"
     ]
    }
   ],
   "source": [
    "X, y = data.drop('target', axis=1), data['target']\n",
    "X_train, X_test, y_train, y_test = train_test_split(X, y, test_size=0.25, random_state=1234)\n",
    "print(X_train.shape, X_test.shape, y_train.shape, y_test.shape)"
   ]
  },
  {
   "cell_type": "markdown",
   "metadata": {
    "id": "opXKafmeIJHl"
   },
   "source": [
    " - Build a kNN regressor on the `Longitude` and `Latitude` features (**0.5 point**)\n",
    " - Build a random forest regressor on the rest of the features (**0.5 point**)\n",
    " - Build a stacking regressor (`sklearn.ensemble.StackingRegressor`) with 5-fold cross-val-predict using the two models above as the base models and a linear regression model as the final (aggregating) estimator. Don't forget to optimize hyper-parameters of your models. (**4 points**)\n",
    " - Compare the test MSE losses of the 3 models above, leave a comment (**1 point**)\n",
    " \n",
    "\n",
    "Make sure to have a look at the documentation: \n",
    "https://scikit-learn.org/stable/modules/ensemble.html#stacking\n",
    "\n",
    "You can make a pipeline (`sklearn.pipeline.make_pipeline`) with a `ColumnTransformer` (`sklearn.compose.make_column_transformer`) and a regression model (knn or random forest), where the `ColumnTransformer` will select the desired columns from the dataset (see the docs for the column transformer: https://scikit-learn.org/stable/modules/generated/sklearn.compose.make_column_transformer.html)."
   ]
  },
  {
   "cell_type": "code",
   "execution_count": 5,
   "metadata": {
    "id": "BwU6mwZ_Chu0"
   },
   "outputs": [],
   "source": [
    "from sklearn.compose import make_column_transformer\n",
    "from sklearn.pipeline import make_pipeline\n",
    "from sklearn.neighbors import KNeighborsRegressor\n",
    "from sklearn.ensemble import RandomForestRegressor, StackingRegressor\n",
    "from sklearn.linear_model import LinearRegression\n",
    "\n",
    "from sklearn.metrics import mean_squared_error"
   ]
  },
  {
   "cell_type": "code",
   "execution_count": 6,
   "metadata": {
    "id": "vdQRhLvSBuV1"
   },
   "outputs": [],
   "source": [
    "geocolumns_columns = [\n",
    "    \"Longitude\",\n",
    "    \"Latitude\"\n",
    "]\n",
    "\n",
    "other_columns = [\n",
    "    \"MedInc\",   \n",
    "    \"HouseAge\",\n",
    "    \"AveRooms\",\n",
    "    \"AveBedrms\",\n",
    "    \"Population\",\n",
    "    \"AveOccup\"   \n",
    "]"
   ]
  },
  {
   "cell_type": "code",
   "execution_count": 7,
   "metadata": {},
   "outputs": [
    {
     "data": {
      "text/html": [
       "<div>\n",
       "<style scoped>\n",
       "    .dataframe tbody tr th:only-of-type {\n",
       "        vertical-align: middle;\n",
       "    }\n",
       "\n",
       "    .dataframe tbody tr th {\n",
       "        vertical-align: top;\n",
       "    }\n",
       "\n",
       "    .dataframe thead th {\n",
       "        text-align: right;\n",
       "    }\n",
       "</style>\n",
       "<table border=\"1\" class=\"dataframe\">\n",
       "  <thead>\n",
       "    <tr style=\"text-align: right;\">\n",
       "      <th></th>\n",
       "      <th>Longitude</th>\n",
       "      <th>Latitude</th>\n",
       "    </tr>\n",
       "  </thead>\n",
       "  <tbody>\n",
       "    <tr>\n",
       "      <th>9101</th>\n",
       "      <td>-117.93</td>\n",
       "      <td>34.57</td>\n",
       "    </tr>\n",
       "    <tr>\n",
       "      <th>16450</th>\n",
       "      <td>-121.28</td>\n",
       "      <td>38.14</td>\n",
       "    </tr>\n",
       "    <tr>\n",
       "      <th>10247</th>\n",
       "      <td>-117.86</td>\n",
       "      <td>33.89</td>\n",
       "    </tr>\n",
       "    <tr>\n",
       "      <th>664</th>\n",
       "      <td>-122.14</td>\n",
       "      <td>37.70</td>\n",
       "    </tr>\n",
       "    <tr>\n",
       "      <th>3198</th>\n",
       "      <td>-119.65</td>\n",
       "      <td>36.37</td>\n",
       "    </tr>\n",
       "    <tr>\n",
       "      <th>...</th>\n",
       "      <td>...</td>\n",
       "      <td>...</td>\n",
       "    </tr>\n",
       "    <tr>\n",
       "      <th>8222</th>\n",
       "      <td>-118.23</td>\n",
       "      <td>33.76</td>\n",
       "    </tr>\n",
       "    <tr>\n",
       "      <th>9449</th>\n",
       "      <td>-119.85</td>\n",
       "      <td>37.39</td>\n",
       "    </tr>\n",
       "    <tr>\n",
       "      <th>8471</th>\n",
       "      <td>-118.32</td>\n",
       "      <td>33.91</td>\n",
       "    </tr>\n",
       "    <tr>\n",
       "      <th>17048</th>\n",
       "      <td>-122.27</td>\n",
       "      <td>37.47</td>\n",
       "    </tr>\n",
       "    <tr>\n",
       "      <th>1318</th>\n",
       "      <td>-121.77</td>\n",
       "      <td>37.99</td>\n",
       "    </tr>\n",
       "  </tbody>\n",
       "</table>\n",
       "<p>15480 rows × 2 columns</p>\n",
       "</div>"
      ],
      "text/plain": [
       "       Longitude  Latitude\n",
       "9101     -117.93     34.57\n",
       "16450    -121.28     38.14\n",
       "10247    -117.86     33.89\n",
       "664      -122.14     37.70\n",
       "3198     -119.65     36.37\n",
       "...          ...       ...\n",
       "8222     -118.23     33.76\n",
       "9449     -119.85     37.39\n",
       "8471     -118.32     33.91\n",
       "17048    -122.27     37.47\n",
       "1318     -121.77     37.99\n",
       "\n",
       "[15480 rows x 2 columns]"
      ]
     },
     "execution_count": 7,
     "metadata": {},
     "output_type": "execute_result"
    }
   ],
   "source": [
    "X_train[geocolumns_columns]"
   ]
  },
  {
   "cell_type": "code",
   "execution_count": 9,
   "metadata": {},
   "outputs": [],
   "source": [
    "import optuna"
   ]
  },
  {
   "cell_type": "code",
   "execution_count": 10,
   "metadata": {},
   "outputs": [],
   "source": [
    "def knn_objective(trial):\n",
    "    # define the grid\n",
    "    param = {\n",
    "        # number of nieghbors\n",
    "        \"n_neighbors\": trial.suggest_int(\"n_neighbors\", 2, 30),\n",
    "        \"weights\": trial.suggest_categorical(\"weights\", [\"uniform\", \"distance\"]),\n",
    "        \"algorithm\":trial.suggest_categorical(\"algorithm\", [\"auto\", \"ball_tree\", \"kd_tree\", \"brute\"]),\n",
    "        \"leaf_size\": trial.suggest_int(\"leaf_size\", 30, 50)\n",
    "    }\n",
    "\n",
    "    knn = KNeighborsRegressor()\n",
    "    knn.set_params(**param)\n",
    "    knn.fit(X_train[geocolumns_columns], y_train)\n",
    "    preds = knn.predict(X_test[geocolumns_columns])\n",
    "    # objective should return the metrics that you want to optimize\n",
    "    MSE = mean_squared_error(y_test, preds)\n",
    "    return MSE"
   ]
  },
  {
   "cell_type": "code",
   "execution_count": 11,
   "metadata": {},
   "outputs": [
    {
     "name": "stderr",
     "output_type": "stream",
     "text": [
      "[I 2023-12-02 22:43:53,864] A new study created in memory with name: no-name-19cc954a-d247-49e6-8a93-8663ce33484f\n",
      "[I 2023-12-02 22:43:54,035] Trial 0 finished with value: 0.3487318731961058 and parameters: {'n_neighbors': 22, 'weights': 'uniform', 'algorithm': 'ball_tree', 'leaf_size': 37}. Best is trial 0 with value: 0.3487318731961058.\n",
      "[I 2023-12-02 22:43:54,084] Trial 1 finished with value: 0.29564956982072493 and parameters: {'n_neighbors': 7, 'weights': 'uniform', 'algorithm': 'auto', 'leaf_size': 43}. Best is trial 1 with value: 0.29564956982072493.\n",
      "[I 2023-12-02 22:43:54,791] Trial 2 finished with value: 0.3354169349983735 and parameters: {'n_neighbors': 17, 'weights': 'uniform', 'algorithm': 'brute', 'leaf_size': 30}. Best is trial 1 with value: 0.29564956982072493.\n",
      "[I 2023-12-02 22:43:54,975] Trial 3 finished with value: 0.33901783924897205 and parameters: {'n_neighbors': 19, 'weights': 'distance', 'algorithm': 'ball_tree', 'leaf_size': 49}. Best is trial 1 with value: 0.29564956982072493.\n",
      "[I 2023-12-02 22:43:55,024] Trial 4 finished with value: 0.2997113069666815 and parameters: {'n_neighbors': 8, 'weights': 'uniform', 'algorithm': 'kd_tree', 'leaf_size': 39}. Best is trial 1 with value: 0.29564956982072493.\n",
      "[I 2023-12-02 22:43:55,073] Trial 5 finished with value: 0.33036131849701095 and parameters: {'n_neighbors': 10, 'weights': 'distance', 'algorithm': 'kd_tree', 'leaf_size': 39}. Best is trial 1 with value: 0.29564956982072493.\n",
      "[I 2023-12-02 22:43:55,127] Trial 6 finished with value: 0.3359584050051623 and parameters: {'n_neighbors': 15, 'weights': 'distance', 'algorithm': 'auto', 'leaf_size': 30}. Best is trial 1 with value: 0.29564956982072493.\n",
      "[I 2023-12-02 22:43:55,591] Trial 7 finished with value: 0.3480716767158946 and parameters: {'n_neighbors': 30, 'weights': 'distance', 'algorithm': 'brute', 'leaf_size': 48}. Best is trial 1 with value: 0.29564956982072493.\n",
      "[I 2023-12-02 22:43:55,737] Trial 8 finished with value: 0.3453640899270582 and parameters: {'n_neighbors': 21, 'weights': 'uniform', 'algorithm': 'ball_tree', 'leaf_size': 37}. Best is trial 1 with value: 0.29564956982072493.\n",
      "[I 2023-12-02 22:43:55,802] Trial 9 finished with value: 0.36737801114074886 and parameters: {'n_neighbors': 28, 'weights': 'uniform', 'algorithm': 'auto', 'leaf_size': 46}. Best is trial 1 with value: 0.29564956982072493.\n",
      "[I 2023-12-02 22:43:55,865] Trial 10 finished with value: 0.3109803632401292 and parameters: {'n_neighbors': 3, 'weights': 'uniform', 'algorithm': 'auto', 'leaf_size': 44}. Best is trial 1 with value: 0.29564956982072493.\n",
      "[I 2023-12-02 22:43:55,928] Trial 11 finished with value: 0.29468438063239716 and parameters: {'n_neighbors': 6, 'weights': 'uniform', 'algorithm': 'kd_tree', 'leaf_size': 42}. Best is trial 11 with value: 0.29468438063239716.\n",
      "[I 2023-12-02 22:43:55,977] Trial 12 finished with value: 0.3109803632401292 and parameters: {'n_neighbors': 3, 'weights': 'uniform', 'algorithm': 'kd_tree', 'leaf_size': 43}. Best is trial 11 with value: 0.29468438063239716.\n",
      "[I 2023-12-02 22:43:56,044] Trial 13 finished with value: 0.30643697225350797 and parameters: {'n_neighbors': 9, 'weights': 'uniform', 'algorithm': 'auto', 'leaf_size': 42}. Best is trial 11 with value: 0.29468438063239716.\n",
      "[I 2023-12-02 22:43:56,103] Trial 14 finished with value: 0.3199389842201202 and parameters: {'n_neighbors': 13, 'weights': 'uniform', 'algorithm': 'kd_tree', 'leaf_size': 34}. Best is trial 11 with value: 0.29468438063239716.\n",
      "[I 2023-12-02 22:43:56,170] Trial 15 finished with value: 0.29468438063239716 and parameters: {'n_neighbors': 6, 'weights': 'uniform', 'algorithm': 'auto', 'leaf_size': 46}. Best is trial 11 with value: 0.29468438063239716.\n",
      "[I 2023-12-02 22:43:56,221] Trial 16 finished with value: 0.33096869739153584 and parameters: {'n_neighbors': 2, 'weights': 'uniform', 'algorithm': 'kd_tree', 'leaf_size': 46}. Best is trial 11 with value: 0.29468438063239716.\n",
      "[I 2023-12-02 22:43:56,620] Trial 17 finished with value: 0.2992037090269046 and parameters: {'n_neighbors': 6, 'weights': 'uniform', 'algorithm': 'brute', 'leaf_size': 50}. Best is trial 11 with value: 0.29468438063239716.\n",
      "[I 2023-12-02 22:43:56,715] Trial 18 finished with value: 0.3336792819279472 and parameters: {'n_neighbors': 13, 'weights': 'distance', 'algorithm': 'kd_tree', 'leaf_size': 46}. Best is trial 11 with value: 0.29468438063239716.\n",
      "[I 2023-12-02 22:43:56,779] Trial 19 finished with value: 0.2982071895730581 and parameters: {'n_neighbors': 5, 'weights': 'uniform', 'algorithm': 'auto', 'leaf_size': 41}. Best is trial 11 with value: 0.29468438063239716.\n",
      "[I 2023-12-02 22:43:56,853] Trial 20 finished with value: 0.3155790555526289 and parameters: {'n_neighbors': 11, 'weights': 'uniform', 'algorithm': 'auto', 'leaf_size': 45}. Best is trial 11 with value: 0.29468438063239716.\n",
      "[I 2023-12-02 22:43:56,916] Trial 21 finished with value: 0.29468438063239716 and parameters: {'n_neighbors': 6, 'weights': 'uniform', 'algorithm': 'auto', 'leaf_size': 43}. Best is trial 11 with value: 0.29468438063239716.\n",
      "[I 2023-12-02 22:43:56,975] Trial 22 finished with value: 0.2982071895730581 and parameters: {'n_neighbors': 5, 'weights': 'uniform', 'algorithm': 'auto', 'leaf_size': 48}. Best is trial 11 with value: 0.29468438063239716.\n",
      "[I 2023-12-02 22:43:57,041] Trial 23 finished with value: 0.3177409521127889 and parameters: {'n_neighbors': 12, 'weights': 'uniform', 'algorithm': 'auto', 'leaf_size': 41}. Best is trial 11 with value: 0.29468438063239716.\n",
      "[I 2023-12-02 22:43:57,129] Trial 24 finished with value: 0.2997113069666815 and parameters: {'n_neighbors': 8, 'weights': 'uniform', 'algorithm': 'auto', 'leaf_size': 44}. Best is trial 11 with value: 0.29468438063239716.\n",
      "[I 2023-12-02 22:43:57,187] Trial 25 finished with value: 0.2982071895730581 and parameters: {'n_neighbors': 5, 'weights': 'uniform', 'algorithm': 'kd_tree', 'leaf_size': 37}. Best is trial 11 with value: 0.29468438063239716.\n",
      "[I 2023-12-02 22:43:57,606] Trial 26 finished with value: 0.36327823843384827 and parameters: {'n_neighbors': 2, 'weights': 'distance', 'algorithm': 'brute', 'leaf_size': 40}. Best is trial 11 with value: 0.29468438063239716.\n",
      "[I 2023-12-02 22:43:57,773] Trial 27 finished with value: 0.35749492420704493 and parameters: {'n_neighbors': 25, 'weights': 'uniform', 'algorithm': 'ball_tree', 'leaf_size': 47}. Best is trial 11 with value: 0.29468438063239716.\n",
      "[I 2023-12-02 22:43:57,856] Trial 28 finished with value: 0.32826815436490503 and parameters: {'n_neighbors': 15, 'weights': 'uniform', 'algorithm': 'auto', 'leaf_size': 43}. Best is trial 11 with value: 0.29468438063239716.\n",
      "[I 2023-12-02 22:43:57,980] Trial 29 finished with value: 0.3100283174573618 and parameters: {'n_neighbors': 10, 'weights': 'uniform', 'algorithm': 'ball_tree', 'leaf_size': 39}. Best is trial 11 with value: 0.29468438063239716.\n"
     ]
    }
   ],
   "source": [
    "study_knn = optuna.create_study(direction=\"minimize\")\n",
    "study_knn.optimize(knn_objective, n_trials=30, timeout=600)"
   ]
  },
  {
   "cell_type": "code",
   "execution_count": 12,
   "metadata": {},
   "outputs": [
    {
     "name": "stdout",
     "output_type": "stream",
     "text": [
      "  Best value: 0.29468438063239716\n",
      "  Best parameter: {'n_neighbors': 6, 'weights': 'uniform', 'algorithm': 'kd_tree', 'leaf_size': 42}\n"
     ]
    }
   ],
   "source": [
    "print(\"Best value: {}\".format(study_knn.best_trial.value))\n",
    "print(\"Best parameter: {}\".format(study_knn.best_params))"
   ]
  },
  {
   "cell_type": "code",
   "execution_count": 13,
   "metadata": {},
   "outputs": [
    {
     "name": "stdout",
     "output_type": "stream",
     "text": [
      "0.29681537252252554\n"
     ]
    }
   ],
   "source": [
    "knn = KNeighborsRegressor()\n",
    "knn.fit(X_train[geocolumns_columns], y_train)\n",
    "preds = knn.predict(X_test[geocolumns_columns])\n",
    "MSE = mean_squared_error(y_test, preds)\n",
    "print (MSE)"
   ]
  },
  {
   "cell_type": "code",
   "execution_count": 14,
   "metadata": {},
   "outputs": [],
   "source": [
    "def RFR_objective(trial):\n",
    "    # define the grid\n",
    "    param = {\n",
    "        # number of nieghbors\n",
    "        \"n_estimators\": trial.suggest_int(\"n_estimators\", 50, 2000),\n",
    "        \"max_features\": trial.suggest_categorical(\"max_features\", [\"auto\", \"sqrt\",\"log2\"]),\n",
    "        \"max_depth\": trial.suggest_int(\"max_depth\", 10, 100),\n",
    "        'min_samples_split': trial.suggest_int('min_samples_split', 2, 10),\n",
    "        'min_samples_leaf': trial.suggest_int('min_samples_leaf', 1, 10),\n",
    "        \"bootstrap\": trial.suggest_categorical(\"bootstrap\", [True, False]),\n",
    "    }\n",
    "    rfr = RandomForestRegressor()\n",
    "    rfr.set_params(**param)\n",
    "\n",
    "\n",
    "    rfr.fit(X_train[other_columns], y_train)\n",
    "    preds = rfr.predict(X_test[other_columns])\n",
    "    MSE = mean_squared_error(y_test, preds)\n",
    "    return MSE"
   ]
  },
  {
   "cell_type": "code",
   "execution_count": 15,
   "metadata": {},
   "outputs": [
    {
     "name": "stderr",
     "output_type": "stream",
     "text": [
      "[I 2023-12-02 22:56:45,230] A new study created in memory with name: no-name-731796f9-f1d0-4fa9-a89f-125de5ef2129\n",
      "[I 2023-12-02 22:57:37,683] Trial 0 finished with value: 0.4227968040975798 and parameters: {'n_estimators': 804, 'max_features': 'sqrt', 'max_depth': 45, 'min_samples_split': 7, 'min_samples_leaf': 2, 'bootstrap': True}. Best is trial 0 with value: 0.4227968040975798.\n",
      "[I 2023-12-02 22:57:48,849] Trial 1 finished with value: 0.4267292438375638 and parameters: {'n_estimators': 208, 'max_features': 'log2', 'max_depth': 19, 'min_samples_split': 5, 'min_samples_leaf': 5, 'bootstrap': True}. Best is trial 0 with value: 0.4227968040975798.\n",
      "[I 2023-12-02 22:59:19,281] Trial 2 finished with value: 0.42614889950250523 and parameters: {'n_estimators': 1540, 'max_features': 'log2', 'max_depth': 75, 'min_samples_split': 5, 'min_samples_leaf': 6, 'bootstrap': True}. Best is trial 0 with value: 0.4227968040975798.\n",
      "[I 2023-12-02 23:00:21,374] Trial 3 finished with value: 0.42557405012111754 and parameters: {'n_estimators': 802, 'max_features': 'log2', 'max_depth': 30, 'min_samples_split': 4, 'min_samples_leaf': 5, 'bootstrap': False}. Best is trial 0 with value: 0.4227968040975798.\n",
      "C:\\Users\\alexs\\anaconda3\\lib\\site-packages\\sklearn\\ensemble\\_forest.py:413: FutureWarning: `max_features='auto'` has been deprecated in 1.1 and will be removed in 1.3. To keep the past behaviour, explicitly set `max_features=1.0` or remove this parameter as it is also the default value for RandomForestRegressors and ExtraTreesRegressors.\n",
      "  warn(\n",
      "[I 2023-12-02 23:00:54,441] Trial 4 finished with value: 0.4234832624252153 and parameters: {'n_estimators': 170, 'max_features': 'auto', 'max_depth': 48, 'min_samples_split': 9, 'min_samples_leaf': 5, 'bootstrap': True}. Best is trial 0 with value: 0.4227968040975798.\n",
      "[I 2023-12-02 23:03:18,001] Trial 5 finished with value: 0.42260411213869825 and parameters: {'n_estimators': 1778, 'max_features': 'sqrt', 'max_depth': 48, 'min_samples_split': 6, 'min_samples_leaf': 1, 'bootstrap': True}. Best is trial 5 with value: 0.42260411213869825.\n",
      "[I 2023-12-02 23:03:27,605] Trial 6 finished with value: 0.4257098382630054 and parameters: {'n_estimators': 168, 'max_features': 'log2', 'max_depth': 75, 'min_samples_split': 2, 'min_samples_leaf': 9, 'bootstrap': False}. Best is trial 5 with value: 0.42260411213869825.\n",
      "[I 2023-12-02 23:04:20,857] Trial 7 finished with value: 0.4225516545135376 and parameters: {'n_estimators': 707, 'max_features': 'sqrt', 'max_depth': 34, 'min_samples_split': 5, 'min_samples_leaf': 1, 'bootstrap': True}. Best is trial 7 with value: 0.4225516545135376.\n",
      "C:\\Users\\alexs\\anaconda3\\lib\\site-packages\\sklearn\\ensemble\\_forest.py:413: FutureWarning: `max_features='auto'` has been deprecated in 1.1 and will be removed in 1.3. To keep the past behaviour, explicitly set `max_features=1.0` or remove this parameter as it is also the default value for RandomForestRegressors and ExtraTreesRegressors.\n",
      "  warn(\n",
      "[I 2023-12-02 23:06:49,022] Trial 8 finished with value: 0.7044812633050356 and parameters: {'n_estimators': 788, 'max_features': 'auto', 'max_depth': 45, 'min_samples_split': 6, 'min_samples_leaf': 2, 'bootstrap': False}. Best is trial 7 with value: 0.4225516545135376.\n"
     ]
    }
   ],
   "source": [
    "study_rfr = optuna.create_study(direction=\"minimize\")\n",
    "study_rfr.optimize(RFR_objective, n_trials=10, timeout=600)"
   ]
  },
  {
   "cell_type": "code",
   "execution_count": 16,
   "metadata": {},
   "outputs": [
    {
     "name": "stdout",
     "output_type": "stream",
     "text": [
      "Best value: 0.4225516545135376\n",
      "Best parameter: {'n_estimators': 707, 'max_features': 'sqrt', 'max_depth': 34, 'min_samples_split': 5, 'min_samples_leaf': 1, 'bootstrap': True}\n"
     ]
    }
   ],
   "source": [
    "print(\"Best value: {}\".format(study_rfr.best_trial.value))\n",
    "print(\"Best parameter: {}\".format(study_rfr.best_params))"
   ]
  },
  {
   "cell_type": "code",
   "execution_count": 17,
   "metadata": {},
   "outputs": [
    {
     "name": "stdout",
     "output_type": "stream",
     "text": [
      "0.43086433103794236\n"
     ]
    }
   ],
   "source": [
    "rfr = RandomForestRegressor()\n",
    "rfr.fit(X_train[other_columns], y_train)\n",
    "preds = rfr.predict(X_test[other_columns])\n",
    "MSE = mean_squared_error(y_test, preds)\n",
    "print (MSE)"
   ]
  },
  {
   "cell_type": "code",
   "execution_count": 18,
   "metadata": {},
   "outputs": [],
   "source": [
    "geo_selector = make_column_transformer(\n",
    "    ('passthrough', geocolumns_columns),\n",
    "    remainder = 'drop')"
   ]
  },
  {
   "cell_type": "code",
   "execution_count": 19,
   "metadata": {},
   "outputs": [],
   "source": [
    "other_selector = make_column_transformer(\n",
    "    ('drop', geocolumns_columns),\n",
    "    remainder = 'passthrough')"
   ]
  },
  {
   "cell_type": "code",
   "execution_count": 20,
   "metadata": {},
   "outputs": [],
   "source": [
    "kn = KNeighborsRegressor()\n",
    "kn.set_params(**study_knn.best_params)\n",
    "geo_pipeline = make_pipeline(geo_selector ,kn)"
   ]
  },
  {
   "cell_type": "code",
   "execution_count": 21,
   "metadata": {},
   "outputs": [],
   "source": [
    "rfr =RandomForestRegressor()\n",
    "rfr.set_params(**study_rfr.best_params)\n",
    "other_pipeline = make_pipeline(other_selector ,rfr)"
   ]
  },
  {
   "cell_type": "code",
   "execution_count": 22,
   "metadata": {},
   "outputs": [],
   "source": [
    "estimators = [\n",
    "('knn',geo_pipeline ),\n",
    "('rfr', other_pipeline)\n",
    "]"
   ]
  },
  {
   "cell_type": "code",
   "execution_count": 23,
   "metadata": {},
   "outputs": [],
   "source": [
    "SR = StackingRegressor(\n",
    "estimators=estimators,\n",
    "final_estimator=LinearRegression(),\n",
    "cv =  5\n",
    ")"
   ]
  },
  {
   "cell_type": "code",
   "execution_count": 24,
   "metadata": {},
   "outputs": [],
   "source": [
    "from sklearn import set_config\n",
    "set_config(display=\"diagram\")"
   ]
  },
  {
   "cell_type": "code",
   "execution_count": 25,
   "metadata": {},
   "outputs": [
    {
     "data": {
      "text/html": [
       "<style>#sk-container-id-1 {color: black;background-color: white;}#sk-container-id-1 pre{padding: 0;}#sk-container-id-1 div.sk-toggleable {background-color: white;}#sk-container-id-1 label.sk-toggleable__label {cursor: pointer;display: block;width: 100%;margin-bottom: 0;padding: 0.3em;box-sizing: border-box;text-align: center;}#sk-container-id-1 label.sk-toggleable__label-arrow:before {content: \"▸\";float: left;margin-right: 0.25em;color: #696969;}#sk-container-id-1 label.sk-toggleable__label-arrow:hover:before {color: black;}#sk-container-id-1 div.sk-estimator:hover label.sk-toggleable__label-arrow:before {color: black;}#sk-container-id-1 div.sk-toggleable__content {max-height: 0;max-width: 0;overflow: hidden;text-align: left;background-color: #f0f8ff;}#sk-container-id-1 div.sk-toggleable__content pre {margin: 0.2em;color: black;border-radius: 0.25em;background-color: #f0f8ff;}#sk-container-id-1 input.sk-toggleable__control:checked~div.sk-toggleable__content {max-height: 200px;max-width: 100%;overflow: auto;}#sk-container-id-1 input.sk-toggleable__control:checked~label.sk-toggleable__label-arrow:before {content: \"▾\";}#sk-container-id-1 div.sk-estimator input.sk-toggleable__control:checked~label.sk-toggleable__label {background-color: #d4ebff;}#sk-container-id-1 div.sk-label input.sk-toggleable__control:checked~label.sk-toggleable__label {background-color: #d4ebff;}#sk-container-id-1 input.sk-hidden--visually {border: 0;clip: rect(1px 1px 1px 1px);clip: rect(1px, 1px, 1px, 1px);height: 1px;margin: -1px;overflow: hidden;padding: 0;position: absolute;width: 1px;}#sk-container-id-1 div.sk-estimator {font-family: monospace;background-color: #f0f8ff;border: 1px dotted black;border-radius: 0.25em;box-sizing: border-box;margin-bottom: 0.5em;}#sk-container-id-1 div.sk-estimator:hover {background-color: #d4ebff;}#sk-container-id-1 div.sk-parallel-item::after {content: \"\";width: 100%;border-bottom: 1px solid gray;flex-grow: 1;}#sk-container-id-1 div.sk-label:hover label.sk-toggleable__label {background-color: #d4ebff;}#sk-container-id-1 div.sk-serial::before {content: \"\";position: absolute;border-left: 1px solid gray;box-sizing: border-box;top: 0;bottom: 0;left: 50%;z-index: 0;}#sk-container-id-1 div.sk-serial {display: flex;flex-direction: column;align-items: center;background-color: white;padding-right: 0.2em;padding-left: 0.2em;position: relative;}#sk-container-id-1 div.sk-item {position: relative;z-index: 1;}#sk-container-id-1 div.sk-parallel {display: flex;align-items: stretch;justify-content: center;background-color: white;position: relative;}#sk-container-id-1 div.sk-item::before, #sk-container-id-1 div.sk-parallel-item::before {content: \"\";position: absolute;border-left: 1px solid gray;box-sizing: border-box;top: 0;bottom: 0;left: 50%;z-index: -1;}#sk-container-id-1 div.sk-parallel-item {display: flex;flex-direction: column;z-index: 1;position: relative;background-color: white;}#sk-container-id-1 div.sk-parallel-item:first-child::after {align-self: flex-end;width: 50%;}#sk-container-id-1 div.sk-parallel-item:last-child::after {align-self: flex-start;width: 50%;}#sk-container-id-1 div.sk-parallel-item:only-child::after {width: 0;}#sk-container-id-1 div.sk-dashed-wrapped {border: 1px dashed gray;margin: 0 0.4em 0.5em 0.4em;box-sizing: border-box;padding-bottom: 0.4em;background-color: white;}#sk-container-id-1 div.sk-label label {font-family: monospace;font-weight: bold;display: inline-block;line-height: 1.2em;}#sk-container-id-1 div.sk-label-container {text-align: center;}#sk-container-id-1 div.sk-container {/* jupyter's `normalize.less` sets `[hidden] { display: none; }` but bootstrap.min.css set `[hidden] { display: none !important; }` so we also need the `!important` here to be able to override the default hidden behavior on the sphinx rendered scikit-learn.org. See: https://github.com/scikit-learn/scikit-learn/issues/21755 */display: inline-block !important;position: relative;}#sk-container-id-1 div.sk-text-repr-fallback {display: none;}</style><div id=\"sk-container-id-1\" class=\"sk-top-container\"><div class=\"sk-text-repr-fallback\"><pre>StackingRegressor(cv=5,\n",
       "                  estimators=[(&#x27;knn&#x27;,\n",
       "                               Pipeline(steps=[(&#x27;columntransformer&#x27;,\n",
       "                                                ColumnTransformer(transformers=[(&#x27;passthrough&#x27;,\n",
       "                                                                                 &#x27;passthrough&#x27;,\n",
       "                                                                                 [&#x27;Longitude&#x27;,\n",
       "                                                                                  &#x27;Latitude&#x27;])])),\n",
       "                                               (&#x27;kneighborsregressor&#x27;,\n",
       "                                                KNeighborsRegressor(algorithm=&#x27;kd_tree&#x27;,\n",
       "                                                                    leaf_size=42,\n",
       "                                                                    n_neighbors=6))])),\n",
       "                              (&#x27;rfr&#x27;,\n",
       "                               Pipeline(steps=[(&#x27;columntransformer&#x27;,\n",
       "                                                ColumnTransformer(remainder=&#x27;passthrough&#x27;,\n",
       "                                                                  transformers=[(&#x27;drop&#x27;,\n",
       "                                                                                 &#x27;drop&#x27;,\n",
       "                                                                                 [&#x27;Longitude&#x27;,\n",
       "                                                                                  &#x27;Latitude&#x27;])])),\n",
       "                                               (&#x27;randomforestregressor&#x27;,\n",
       "                                                RandomForestRegressor(max_depth=34,\n",
       "                                                                      max_features=&#x27;sqrt&#x27;,\n",
       "                                                                      min_samples_split=5,\n",
       "                                                                      n_estimators=707))]))],\n",
       "                  final_estimator=LinearRegression())</pre><b>In a Jupyter environment, please rerun this cell to show the HTML representation or trust the notebook. <br />On GitHub, the HTML representation is unable to render, please try loading this page with nbviewer.org.</b></div><div class=\"sk-container\" hidden><div class=\"sk-item sk-dashed-wrapped\"><div class=\"sk-label-container\"><div class=\"sk-label sk-toggleable\"><input class=\"sk-toggleable__control sk-hidden--visually\" id=\"sk-estimator-id-1\" type=\"checkbox\" ><label for=\"sk-estimator-id-1\" class=\"sk-toggleable__label sk-toggleable__label-arrow\">StackingRegressor</label><div class=\"sk-toggleable__content\"><pre>StackingRegressor(cv=5,\n",
       "                  estimators=[(&#x27;knn&#x27;,\n",
       "                               Pipeline(steps=[(&#x27;columntransformer&#x27;,\n",
       "                                                ColumnTransformer(transformers=[(&#x27;passthrough&#x27;,\n",
       "                                                                                 &#x27;passthrough&#x27;,\n",
       "                                                                                 [&#x27;Longitude&#x27;,\n",
       "                                                                                  &#x27;Latitude&#x27;])])),\n",
       "                                               (&#x27;kneighborsregressor&#x27;,\n",
       "                                                KNeighborsRegressor(algorithm=&#x27;kd_tree&#x27;,\n",
       "                                                                    leaf_size=42,\n",
       "                                                                    n_neighbors=6))])),\n",
       "                              (&#x27;rfr&#x27;,\n",
       "                               Pipeline(steps=[(&#x27;columntransformer&#x27;,\n",
       "                                                ColumnTransformer(remainder=&#x27;passthrough&#x27;,\n",
       "                                                                  transformers=[(&#x27;drop&#x27;,\n",
       "                                                                                 &#x27;drop&#x27;,\n",
       "                                                                                 [&#x27;Longitude&#x27;,\n",
       "                                                                                  &#x27;Latitude&#x27;])])),\n",
       "                                               (&#x27;randomforestregressor&#x27;,\n",
       "                                                RandomForestRegressor(max_depth=34,\n",
       "                                                                      max_features=&#x27;sqrt&#x27;,\n",
       "                                                                      min_samples_split=5,\n",
       "                                                                      n_estimators=707))]))],\n",
       "                  final_estimator=LinearRegression())</pre></div></div></div><div class=\"sk-serial\"><div class=\"sk-item\"><div class=\"sk-parallel\"><div class=\"sk-parallel-item\"><div class=\"sk-item\"><div class=\"sk-label-container\"><div class=\"sk-label sk-toggleable\"><label>knn</label></div></div><div class=\"sk-serial\"><div class=\"sk-item\"><div class=\"sk-serial\"><div class=\"sk-item sk-dashed-wrapped\"><div class=\"sk-label-container\"><div class=\"sk-label sk-toggleable\"><input class=\"sk-toggleable__control sk-hidden--visually\" id=\"sk-estimator-id-2\" type=\"checkbox\" ><label for=\"sk-estimator-id-2\" class=\"sk-toggleable__label sk-toggleable__label-arrow\">columntransformer: ColumnTransformer</label><div class=\"sk-toggleable__content\"><pre>ColumnTransformer(transformers=[(&#x27;passthrough&#x27;, &#x27;passthrough&#x27;,\n",
       "                                 [&#x27;Longitude&#x27;, &#x27;Latitude&#x27;])])</pre></div></div></div><div class=\"sk-parallel\"><div class=\"sk-parallel-item\"><div class=\"sk-item\"><div class=\"sk-label-container\"><div class=\"sk-label sk-toggleable\"><input class=\"sk-toggleable__control sk-hidden--visually\" id=\"sk-estimator-id-3\" type=\"checkbox\" ><label for=\"sk-estimator-id-3\" class=\"sk-toggleable__label sk-toggleable__label-arrow\">passthrough</label><div class=\"sk-toggleable__content\"><pre>[&#x27;Longitude&#x27;, &#x27;Latitude&#x27;]</pre></div></div></div><div class=\"sk-serial\"><div class=\"sk-item\"><div class=\"sk-estimator sk-toggleable\"><input class=\"sk-toggleable__control sk-hidden--visually\" id=\"sk-estimator-id-4\" type=\"checkbox\" ><label for=\"sk-estimator-id-4\" class=\"sk-toggleable__label sk-toggleable__label-arrow\">passthrough</label><div class=\"sk-toggleable__content\"><pre>passthrough</pre></div></div></div></div></div></div></div></div><div class=\"sk-item\"><div class=\"sk-estimator sk-toggleable\"><input class=\"sk-toggleable__control sk-hidden--visually\" id=\"sk-estimator-id-5\" type=\"checkbox\" ><label for=\"sk-estimator-id-5\" class=\"sk-toggleable__label sk-toggleable__label-arrow\">KNeighborsRegressor</label><div class=\"sk-toggleable__content\"><pre>KNeighborsRegressor(algorithm=&#x27;kd_tree&#x27;, leaf_size=42, n_neighbors=6)</pre></div></div></div></div></div></div></div></div><div class=\"sk-parallel-item\"><div class=\"sk-item\"><div class=\"sk-label-container\"><div class=\"sk-label sk-toggleable\"><label>rfr</label></div></div><div class=\"sk-serial\"><div class=\"sk-item\"><div class=\"sk-serial\"><div class=\"sk-item sk-dashed-wrapped\"><div class=\"sk-label-container\"><div class=\"sk-label sk-toggleable\"><input class=\"sk-toggleable__control sk-hidden--visually\" id=\"sk-estimator-id-6\" type=\"checkbox\" ><label for=\"sk-estimator-id-6\" class=\"sk-toggleable__label sk-toggleable__label-arrow\">columntransformer: ColumnTransformer</label><div class=\"sk-toggleable__content\"><pre>ColumnTransformer(remainder=&#x27;passthrough&#x27;,\n",
       "                  transformers=[(&#x27;drop&#x27;, &#x27;drop&#x27;, [&#x27;Longitude&#x27;, &#x27;Latitude&#x27;])])</pre></div></div></div><div class=\"sk-parallel\"><div class=\"sk-parallel-item\"><div class=\"sk-item\"><div class=\"sk-label-container\"><div class=\"sk-label sk-toggleable\"><input class=\"sk-toggleable__control sk-hidden--visually\" id=\"sk-estimator-id-7\" type=\"checkbox\" ><label for=\"sk-estimator-id-7\" class=\"sk-toggleable__label sk-toggleable__label-arrow\">drop</label><div class=\"sk-toggleable__content\"><pre>[&#x27;Longitude&#x27;, &#x27;Latitude&#x27;]</pre></div></div></div><div class=\"sk-serial\"><div class=\"sk-item\"><div class=\"sk-estimator sk-toggleable\"><input class=\"sk-toggleable__control sk-hidden--visually\" id=\"sk-estimator-id-8\" type=\"checkbox\" ><label for=\"sk-estimator-id-8\" class=\"sk-toggleable__label sk-toggleable__label-arrow\">drop</label><div class=\"sk-toggleable__content\"><pre>drop</pre></div></div></div></div></div></div><div class=\"sk-parallel-item\"><div class=\"sk-item\"><div class=\"sk-label-container\"><div class=\"sk-label sk-toggleable\"><input class=\"sk-toggleable__control sk-hidden--visually\" id=\"sk-estimator-id-9\" type=\"checkbox\" ><label for=\"sk-estimator-id-9\" class=\"sk-toggleable__label sk-toggleable__label-arrow\">remainder</label><div class=\"sk-toggleable__content\"><pre></pre></div></div></div><div class=\"sk-serial\"><div class=\"sk-item\"><div class=\"sk-estimator sk-toggleable\"><input class=\"sk-toggleable__control sk-hidden--visually\" id=\"sk-estimator-id-10\" type=\"checkbox\" ><label for=\"sk-estimator-id-10\" class=\"sk-toggleable__label sk-toggleable__label-arrow\">passthrough</label><div class=\"sk-toggleable__content\"><pre>passthrough</pre></div></div></div></div></div></div></div></div><div class=\"sk-item\"><div class=\"sk-estimator sk-toggleable\"><input class=\"sk-toggleable__control sk-hidden--visually\" id=\"sk-estimator-id-11\" type=\"checkbox\" ><label for=\"sk-estimator-id-11\" class=\"sk-toggleable__label sk-toggleable__label-arrow\">RandomForestRegressor</label><div class=\"sk-toggleable__content\"><pre>RandomForestRegressor(max_depth=34, max_features=&#x27;sqrt&#x27;, min_samples_split=5,\n",
       "                      n_estimators=707)</pre></div></div></div></div></div></div></div></div></div></div><div class=\"sk-item\"><div class=\"sk-parallel\"><div class=\"sk-parallel-item\"><div class=\"sk-item\"><div class=\"sk-label-container\"><div class=\"sk-label sk-toggleable\"><label>final_estimator</label></div></div><div class=\"sk-serial\"><div class=\"sk-item\"><div class=\"sk-estimator sk-toggleable\"><input class=\"sk-toggleable__control sk-hidden--visually\" id=\"sk-estimator-id-12\" type=\"checkbox\" ><label for=\"sk-estimator-id-12\" class=\"sk-toggleable__label sk-toggleable__label-arrow\">LinearRegression</label><div class=\"sk-toggleable__content\"><pre>LinearRegression()</pre></div></div></div></div></div></div></div></div></div></div></div></div>"
      ],
      "text/plain": [
       "StackingRegressor(cv=5,\n",
       "                  estimators=[('knn',\n",
       "                               Pipeline(steps=[('columntransformer',\n",
       "                                                ColumnTransformer(transformers=[('passthrough',\n",
       "                                                                                 'passthrough',\n",
       "                                                                                 ['Longitude',\n",
       "                                                                                  'Latitude'])])),\n",
       "                                               ('kneighborsregressor',\n",
       "                                                KNeighborsRegressor(algorithm='kd_tree',\n",
       "                                                                    leaf_size=42,\n",
       "                                                                    n_neighbors=6))])),\n",
       "                              ('rfr',\n",
       "                               Pipeline(steps=[('columntransformer',\n",
       "                                                ColumnTransformer(remainder='passthrough',\n",
       "                                                                  transformers=[('drop',\n",
       "                                                                                 'drop',\n",
       "                                                                                 ['Longitude',\n",
       "                                                                                  'Latitude'])])),\n",
       "                                               ('randomforestregressor',\n",
       "                                                RandomForestRegressor(max_depth=34,\n",
       "                                                                      max_features='sqrt',\n",
       "                                                                      min_samples_split=5,\n",
       "                                                                      n_estimators=707))]))],\n",
       "                  final_estimator=LinearRegression())"
      ]
     },
     "execution_count": 25,
     "metadata": {},
     "output_type": "execute_result"
    }
   ],
   "source": [
    "SR.fit(X_train,y_train)"
   ]
  },
  {
   "cell_type": "code",
   "execution_count": 26,
   "metadata": {},
   "outputs": [],
   "source": [
    "preds = SR.predict(X_test)"
   ]
  },
  {
   "cell_type": "code",
   "execution_count": 27,
   "metadata": {},
   "outputs": [
    {
     "name": "stdout",
     "output_type": "stream",
     "text": [
      "0.22862768615865747\n"
     ]
    }
   ],
   "source": [
    "MSE = mean_squared_error(y_test, preds)\n",
    "print (MSE)"
   ]
  },
  {
   "cell_type": "markdown",
   "metadata": {},
   "source": [
    "The study reveals that through meticulous hyperparameter optimization for both K-Nearest Neighbors (KNR) and Random Forest Regressor (RFR) models, coupled with the implementation of a Stacking Regressor, notable improvements in Mean Squared Error (MSE) have been achieved.\n",
    "\n",
    "An intriguing finding from the analysis is the pronounced significance of the \"Longitude\" and \"Latitude\" features among the eight features in the input dataset. This is evident from the close MSE values obtained for the optimized KNR and the optimized Stacking Regressor (0.29 for KNR and 0.22 for SR). Notably, a substantial disparity in MSE values exists between the optimized RFR and SR (0.43 for RFR compared to 0.22 for SR).\n",
    "\n",
    "The conclusion drawn is that the ensemble of the two models in a Stacking Regressor configuration yields a superior MSE, capitalizing on the robustness of KNR when applied specifically to the \"Longitude\" and \"Latitude\" features. This approach avoids the need to discard the remaining features or include them in the KNR learning process, as their inclusion might alter the learning dynamics of KNR."
   ]
  }
 ],
 "metadata": {
  "colab": {
   "authorship_tag": "ABX9TyO1NIAxZX9ETPqIs8hAEhr/",
   "include_colab_link": true,
   "name": "Ensembles_HW.ipynb",
   "provenance": []
  },
  "kernelspec": {
   "display_name": "Python 3 (ipykernel)",
   "language": "python",
   "name": "python3"
  },
  "language_info": {
   "codemirror_mode": {
    "name": "ipython",
    "version": 3
   },
   "file_extension": ".py",
   "mimetype": "text/x-python",
   "name": "python",
   "nbconvert_exporter": "python",
   "pygments_lexer": "ipython3",
   "version": "3.8.8"
  }
 },
 "nbformat": 4,
 "nbformat_minor": 1
}
